{
 "cells": [
  {
   "cell_type": "code",
   "execution_count": 4,
   "metadata": {},
   "outputs": [
    {
     "name": "stdout",
     "output_type": "stream",
     "text": [
      "  \n",
      "Financial Analysis\n",
      "----------------------------\n",
      "Total Months: 86\n",
      "Total: $38382578\n",
      "Average Change: $-2315.12\n",
      "Greatest Increase in Profits: Feb-12 ($1926159)\n",
      "Greatest Decrease in Profits: Sep-13 ($-2196167)\n",
      "\n"
     ]
    }
   ],
   "source": [
    "#import budget data \n",
    "import os\n",
    "import csv \n",
    "\n",
    "\n",
    "# Create Path and lists\n",
    "\n",
    "csvpath=os.path.join('budget_data.csv')\n",
    "greatest_increase_in_profits = 0\n",
    "month_with_greatest_increase = ''\n",
    "greatest_decrease_in_profits = 0\n",
    "month_with_greatest_decrease = ''\n",
    "with open(csvpath) as csvfile:\n",
    "    csvreader = csv.reader(csvfile, delimiter=',')\n",
    "    csv_header = next(csvreader)\n",
    "    months = []\n",
    "    revenues = []\n",
    "    revenue_changes = []\n",
    "    monthly_changes = []\n",
    "    # Read each row of data after the header\n",
    "    for i, row in enumerate(list(csvreader)):\n",
    "        # Print the row\n",
    "        months.append(row[0])\n",
    "        revenues.append(int(row[1])) \n",
    "        if i > 0:\n",
    "            revenue_change = int(row[1]) - prev_row\n",
    "            revenue_changes.append(revenue_change)\n",
    "        prev_row = int(row[1])\n",
    "        if revenue_change > greatest_increase_in_profits:\n",
    "            greatest_increase_in_profits = revenue_change\n",
    "            month_with_greatest_increase = row[0] \n",
    "        if revenue_change < greatest_decrease_in_profits:\n",
    "            greatest_decrease_in_profits = revenue_change\n",
    "            month_with_greatest_decrease = row[0]\n",
    "\n",
    "average_change = sum(revenue_changes) /  len(revenue_changes) \n",
    "final_analysis =f\"\"\"  \n",
    "Financial Analysis\n",
    "----------------------------\n",
    "Total Months: {len(months)}\n",
    "Total: ${sum(revenues)}\n",
    "Average Change: ${round(average_change,2)}\n",
    "Greatest Increase in Profits: {month_with_greatest_increase} (${greatest_increase_in_profits})\n",
    "Greatest Decrease in Profits: {month_with_greatest_decrease} (${greatest_decrease_in_profits})\n",
    "\"\"\"\n",
    "print(final_analysis)"
   ]
  },
  {
   "cell_type": "code",
   "execution_count": 1,
   "metadata": {},
   "outputs": [
    {
     "ename": "FileNotFoundError",
     "evalue": "[Errno 2] No such file or directory: 'Resources\\\\budget_data.csv'",
     "output_type": "error",
     "traceback": [
      "\u001b[1;31m---------------------------------------------------------------------------\u001b[0m",
      "\u001b[1;31mFileNotFoundError\u001b[0m                         Traceback (most recent call last)",
      "\u001b[1;32m<ipython-input-1-1e614f43e63f>\u001b[0m in \u001b[0;36m<module>\u001b[1;34m\u001b[0m\n\u001b[0;32m      7\u001b[0m \u001b[1;33m\u001b[0m\u001b[0m\n\u001b[0;32m      8\u001b[0m \u001b[0mcsvpath\u001b[0m\u001b[1;33m=\u001b[0m\u001b[0mos\u001b[0m\u001b[1;33m.\u001b[0m\u001b[0mpath\u001b[0m\u001b[1;33m.\u001b[0m\u001b[0mjoin\u001b[0m\u001b[1;33m(\u001b[0m\u001b[1;34m'Resources'\u001b[0m\u001b[1;33m,\u001b[0m\u001b[1;34m'budget_data.csv'\u001b[0m\u001b[1;33m)\u001b[0m\u001b[1;33m\u001b[0m\u001b[1;33m\u001b[0m\u001b[0m\n\u001b[1;32m----> 9\u001b[1;33m \u001b[1;32mwith\u001b[0m \u001b[0mopen\u001b[0m\u001b[1;33m(\u001b[0m\u001b[0mcsvpath\u001b[0m\u001b[1;33m)\u001b[0m \u001b[1;32mas\u001b[0m \u001b[0mcsvfile\u001b[0m\u001b[1;33m:\u001b[0m\u001b[1;33m\u001b[0m\u001b[1;33m\u001b[0m\u001b[0m\n\u001b[0m\u001b[0;32m     10\u001b[0m     \u001b[0mcsvreader\u001b[0m \u001b[1;33m=\u001b[0m \u001b[0mcsv\u001b[0m\u001b[1;33m.\u001b[0m\u001b[0mreader\u001b[0m\u001b[1;33m(\u001b[0m\u001b[0mcsvfile\u001b[0m\u001b[1;33m,\u001b[0m \u001b[0mdelimiter\u001b[0m\u001b[1;33m=\u001b[0m\u001b[1;34m','\u001b[0m\u001b[1;33m)\u001b[0m\u001b[1;33m\u001b[0m\u001b[1;33m\u001b[0m\u001b[0m\n\u001b[0;32m     11\u001b[0m     \u001b[0mprint\u001b[0m\u001b[1;33m(\u001b[0m\u001b[0mcsvreader\u001b[0m\u001b[1;33m)\u001b[0m\u001b[1;33m\u001b[0m\u001b[1;33m\u001b[0m\u001b[0m\n",
      "\u001b[1;31mFileNotFoundError\u001b[0m: [Errno 2] No such file or directory: 'Resources\\\\budget_data.csv'"
     ]
    }
   ],
   "source": []
  },
  {
   "cell_type": "code",
   "execution_count": null,
   "metadata": {},
   "outputs": [],
   "source": []
  }
 ],
 "metadata": {
  "kernelspec": {
   "display_name": "Python 3",
   "language": "python",
   "name": "python3"
  },
  "language_info": {
   "codemirror_mode": {
    "name": "ipython",
    "version": 3
   },
   "file_extension": ".py",
   "mimetype": "text/x-python",
   "name": "python",
   "nbconvert_exporter": "python",
   "pygments_lexer": "ipython3",
   "version": "3.8.3"
  }
 },
 "nbformat": 4,
 "nbformat_minor": 4
}
